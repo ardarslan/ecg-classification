{
 "cells": [
  {
   "cell_type": "code",
   "execution_count": 1,
   "metadata": {},
   "outputs": [],
   "source": [
    "import warnings\n",
    "warnings.filterwarnings('ignore')\n",
    "import os\n",
    "os.environ['TF_CPP_MIN_LOG_LEVEL'] = '2' \n",
    "\n",
    "import pandas as pd\n",
    "import numpy as np\n",
    "import tensorflow as tf\n",
    "import matplotlib.pyplot as plt\n",
    "from task1 import vanilla_model\n",
    "from utils import load_data\n",
    "\n",
    "tf.config.set_visible_devices([], 'GPU')"
   ]
  },
  {
   "cell_type": "code",
   "execution_count": 2,
   "metadata": {},
   "outputs": [],
   "source": [
    "dataset = 'mitbih' # 'mitbih' or 'ptbdb'\n",
    "X,Y,X_test,Y_test = load_data(dataset)"
   ]
  },
  {
   "cell_type": "markdown",
   "metadata": {},
   "source": [
    "### Task 1\n",
    "\n",
    "Solve both datasets with vanilla RNNs and CNNs.\n",
    "- For the binary one, report accuracy, AUROC and AUPRC.\n",
    "- For the non-binary one, report accuracy.\n",
    "- Compare with baseline."
   ]
  },
  {
   "cell_type": "code",
   "execution_count": 3,
   "metadata": {},
   "outputs": [
    {
     "name": "stdout",
     "output_type": "stream",
     "text": [
      "Model: \"model\"\n",
      "_________________________________________________________________\n",
      " Layer (type)                Output Shape              Param #   \n",
      "=================================================================\n",
      " input_1 (InputLayer)        [(None, 187, 1)]          0         \n",
      "                                                                 \n",
      " lstm (LSTM)                 (None, 64)                16896     \n",
      "                                                                 \n",
      " dense (Dense)               (None, 32)                2080      \n",
      "                                                                 \n",
      " dense_1 (Dense)             (None, 5)                 165       \n",
      "                                                                 \n",
      "=================================================================\n",
      "Total params: 19,141\n",
      "Trainable params: 19,141\n",
      "Non-trainable params: 0\n",
      "_________________________________________________________________\n"
     ]
    }
   ],
   "source": [
    "model_type = 'rnn'\n",
    "model = vanilla_model(type=model_type,dataset=dataset)\n",
    "model.summary()"
   ]
  },
  {
   "cell_type": "code",
   "execution_count": null,
   "metadata": {},
   "outputs": [],
   "source": [
    "optimizer = tf.keras.optimizers.Adam(learning_rate=0.001)\n",
    "\n",
    "if dataset =='mitbih':\n",
    "    loss = tf.keras.losses.SparseCategoricalCrossentropy(from_logits=True)\n",
    "elif dataset == 'ptbdb':\n",
    "    loss = tf.keras.losses.BinaryCrossentropy(from_logits=True)\n",
    "else:\n",
    "    raise NotImplementedError('wrong dataset name')\n",
    "\n",
    "early_stopper = tf.keras.callbacks.EarlyStopping(monitor='val_loss',min_delta=0, patience = 5,verbose=2)\n",
    "lr_scheduler = tf.keras.callbacks.ReduceLROnPlateau(monitor='val_loss',factor=0.2,patience =3, verbose = 1)\n",
    "checkpointer = tf.keras.callbacks.ModelCheckpoint(filepath='../chckpt',monitor='val_loss',verbose=1,save_best_only=True)\n",
    "tensorboard = tf.keras.callbacks.TensorBoard(log_dir='../logs/'+dataset+'/vanilla_lstm',write_images=True)\n",
    "\n",
    "if dataset =='mitbih':\n",
    "    metrics= ['accuracy']\n",
    "elif dataset == 'ptbdb':\n",
    "    auroc = tf.keras.metrics.AUC(curve='ROC',from_logits = True,name='auroc')\n",
    "    auprc = tf.keras.metrics.AUC(curve='PR',from_logits = True,name='auprc')\n",
    "    metrics= ['accuracy',auroc,auprc]\n",
    "else:\n",
    "    raise NotImplementedError('wrong dataset name')\n",
    "\n",
    "model.compile(optimizer=optimizer, loss= loss, metrics = metrics)\n",
    "\n",
    "model.fit(x=X,y=Y,batch_size=64,epochs=100,verbose=2,shuffle=True,callbacks=[early_stopper,lr_scheduler,checkpointer,tensorboard],validation_split = 0.1)\n",
    "\n",
    "model.evaluate(x=X_test,y=Y_test)"
   ]
  },
  {
   "cell_type": "markdown",
   "metadata": {},
   "source": [
    "### Task 4\n",
    "\n",
    "option 1: Transfer learning with RNNs, frozen base model.\n",
    "\n",
    "Train RNN model with MIT-BIH Arrhythmia Database.\\\n",
    "− Remove output layer(s) from model and feed it with the PTB Diagnostic ECG Database. The outputs are the\n",
    "vector representation of the PTB Diagnostic ECG Database samples.\\\n",
    "− Take the representations of the samples of PTB Diagnostic ECG Database and train a new small\n",
    "feedforward neural network equivalent to the layers you removed from the first model."
   ]
  },
  {
   "cell_type": "code",
   "execution_count": 4,
   "metadata": {},
   "outputs": [
    {
     "name": "stdout",
     "output_type": "stream",
     "text": [
      "input_1 False\n",
      "lstm False\n",
      "dense_2 True\n",
      "dense_3 True\n",
      "dense_4 True\n"
     ]
    }
   ],
   "source": [
    "model.load_weights('../chckpt_lstm_mitbih')\n",
    "\n",
    "#model.trainable = False # freeze the base model\n",
    "\n",
    "x = model.layers[0].output\n",
    "x = model.layers[1](x)\n",
    "x = tf.keras.layers.Dense(units=128, activation='relu')(x)\n",
    "x = tf.keras.layers.Dense(units=64, activation='relu')(x)\n",
    "outputs = tf.keras.layers.Dense(units=1, activation=None)(x)\n",
    "\n",
    "model2 = tf.keras.Model(inputs= model.layers[0].input, outputs = outputs)\n",
    "\n",
    "for l in model2.layers:\n",
    "    print(l.name, l.trainable)"
   ]
  },
  {
   "cell_type": "code",
   "execution_count": 5,
   "metadata": {},
   "outputs": [],
   "source": [
    "dataset = 'ptbdb'\n",
    "X,Y,X_test,Y_test = load_data(dataset)"
   ]
  },
  {
   "cell_type": "code",
   "execution_count": 6,
   "metadata": {},
   "outputs": [
    {
     "name": "stdout",
     "output_type": "stream",
     "text": [
      "Epoch 1/100\n",
      "\n",
      "Epoch 1: val_accuracy improved from -inf to 0.73047, saving model to ../chckpt\n"
     ]
    },
    {
     "name": "stderr",
     "output_type": "stream",
     "text": [
      "WARNING:absl:Found untraced functions such as lstm_cell_layer_call_fn, lstm_cell_layer_call_and_return_conditional_losses while saving (showing 2 of 2). These functions will not be directly callable after loading.\n"
     ]
    },
    {
     "name": "stdout",
     "output_type": "stream",
     "text": [
      "INFO:tensorflow:Assets written to: ../chckpt/assets\n"
     ]
    },
    {
     "name": "stderr",
     "output_type": "stream",
     "text": [
      "INFO:tensorflow:Assets written to: ../chckpt/assets\n",
      "WARNING:absl:<keras.layers.recurrent.LSTMCell object at 0x7fa1febf4a60> has the same name 'LSTMCell' as a built-in Keras object. Consider renaming <class 'keras.layers.recurrent.LSTMCell'> to avoid naming conflicts when loading with `tf.keras.models.load_model`. If renaming is not possible, pass the object in the `custom_objects` parameter of the load function.\n"
     ]
    },
    {
     "name": "stdout",
     "output_type": "stream",
     "text": [
      "164/164 - 8s - loss: 0.4898 - accuracy: 0.7341 - auroc: 0.7691 - auprc: 0.8990 - val_loss: 0.4819 - val_accuracy: 0.7305 - val_auroc: 0.7950 - val_auprc: 0.9030 - lr: 0.0010 - 8s/epoch - 50ms/step\n",
      "Epoch 2/100\n",
      "\n",
      "Epoch 2: val_accuracy did not improve from 0.73047\n",
      "164/164 - 4s - loss: 0.4602 - accuracy: 0.7611 - auroc: 0.8040 - auprc: 0.9164 - val_loss: 0.4749 - val_accuracy: 0.7305 - val_auroc: 0.8049 - val_auprc: 0.9084 - lr: 0.0010 - 4s/epoch - 26ms/step\n",
      "Epoch 3/100\n",
      "\n",
      "Epoch 3: val_accuracy improved from 0.73047 to 0.75536, saving model to ../chckpt\n"
     ]
    },
    {
     "name": "stderr",
     "output_type": "stream",
     "text": [
      "WARNING:absl:Found untraced functions such as lstm_cell_layer_call_fn, lstm_cell_layer_call_and_return_conditional_losses while saving (showing 2 of 2). These functions will not be directly callable after loading.\n"
     ]
    },
    {
     "name": "stdout",
     "output_type": "stream",
     "text": [
      "INFO:tensorflow:Assets written to: ../chckpt/assets\n"
     ]
    },
    {
     "name": "stderr",
     "output_type": "stream",
     "text": [
      "INFO:tensorflow:Assets written to: ../chckpt/assets\n",
      "WARNING:absl:<keras.layers.recurrent.LSTMCell object at 0x7fa1febf4a60> has the same name 'LSTMCell' as a built-in Keras object. Consider renaming <class 'keras.layers.recurrent.LSTMCell'> to avoid naming conflicts when loading with `tf.keras.models.load_model`. If renaming is not possible, pass the object in the `custom_objects` parameter of the load function.\n"
     ]
    },
    {
     "name": "stdout",
     "output_type": "stream",
     "text": [
      "164/164 - 7s - loss: 0.4508 - accuracy: 0.7686 - auroc: 0.8142 - auprc: 0.9215 - val_loss: 0.4699 - val_accuracy: 0.7554 - val_auroc: 0.8096 - val_auprc: 0.9107 - lr: 0.0010 - 7s/epoch - 40ms/step\n",
      "Epoch 4/100\n",
      "\n",
      "Epoch 4: val_accuracy improved from 0.75536 to 0.77253, saving model to ../chckpt\n"
     ]
    },
    {
     "name": "stderr",
     "output_type": "stream",
     "text": [
      "WARNING:absl:Found untraced functions such as lstm_cell_layer_call_fn, lstm_cell_layer_call_and_return_conditional_losses while saving (showing 2 of 2). These functions will not be directly callable after loading.\n"
     ]
    },
    {
     "name": "stdout",
     "output_type": "stream",
     "text": [
      "INFO:tensorflow:Assets written to: ../chckpt/assets\n"
     ]
    },
    {
     "name": "stderr",
     "output_type": "stream",
     "text": [
      "INFO:tensorflow:Assets written to: ../chckpt/assets\n",
      "WARNING:absl:<keras.layers.recurrent.LSTMCell object at 0x7fa1febf4a60> has the same name 'LSTMCell' as a built-in Keras object. Consider renaming <class 'keras.layers.recurrent.LSTMCell'> to avoid naming conflicts when loading with `tf.keras.models.load_model`. If renaming is not possible, pass the object in the `custom_objects` parameter of the load function.\n"
     ]
    },
    {
     "name": "stdout",
     "output_type": "stream",
     "text": [
      "164/164 - 7s - loss: 0.4414 - accuracy: 0.7765 - auroc: 0.8239 - auprc: 0.9260 - val_loss: 0.4558 - val_accuracy: 0.7725 - val_auroc: 0.8264 - val_auprc: 0.9194 - lr: 0.0010 - 7s/epoch - 45ms/step\n",
      "Epoch 5/100\n",
      "\n",
      "Epoch 5: val_accuracy improved from 0.77253 to 0.78541, saving model to ../chckpt\n"
     ]
    },
    {
     "name": "stderr",
     "output_type": "stream",
     "text": [
      "WARNING:absl:Found untraced functions such as lstm_cell_layer_call_fn, lstm_cell_layer_call_and_return_conditional_losses while saving (showing 2 of 2). These functions will not be directly callable after loading.\n"
     ]
    },
    {
     "name": "stdout",
     "output_type": "stream",
     "text": [
      "INFO:tensorflow:Assets written to: ../chckpt/assets\n"
     ]
    },
    {
     "name": "stderr",
     "output_type": "stream",
     "text": [
      "INFO:tensorflow:Assets written to: ../chckpt/assets\n",
      "WARNING:absl:<keras.layers.recurrent.LSTMCell object at 0x7fa1febf4a60> has the same name 'LSTMCell' as a built-in Keras object. Consider renaming <class 'keras.layers.recurrent.LSTMCell'> to avoid naming conflicts when loading with `tf.keras.models.load_model`. If renaming is not possible, pass the object in the `custom_objects` parameter of the load function.\n"
     ]
    },
    {
     "name": "stdout",
     "output_type": "stream",
     "text": [
      "164/164 - 7s - loss: 0.4355 - accuracy: 0.7822 - auroc: 0.8300 - auprc: 0.9288 - val_loss: 0.4613 - val_accuracy: 0.7854 - val_auroc: 0.8310 - val_auprc: 0.9222 - lr: 0.0010 - 7s/epoch - 40ms/step\n",
      "Epoch 6/100\n",
      "\n",
      "Epoch 6: val_accuracy improved from 0.78541 to 0.78798, saving model to ../chckpt\n"
     ]
    },
    {
     "name": "stderr",
     "output_type": "stream",
     "text": [
      "WARNING:absl:Found untraced functions such as lstm_cell_layer_call_fn, lstm_cell_layer_call_and_return_conditional_losses while saving (showing 2 of 2). These functions will not be directly callable after loading.\n"
     ]
    },
    {
     "name": "stdout",
     "output_type": "stream",
     "text": [
      "INFO:tensorflow:Assets written to: ../chckpt/assets\n"
     ]
    },
    {
     "name": "stderr",
     "output_type": "stream",
     "text": [
      "INFO:tensorflow:Assets written to: ../chckpt/assets\n",
      "WARNING:absl:<keras.layers.recurrent.LSTMCell object at 0x7fa1febf4a60> has the same name 'LSTMCell' as a built-in Keras object. Consider renaming <class 'keras.layers.recurrent.LSTMCell'> to avoid naming conflicts when loading with `tf.keras.models.load_model`. If renaming is not possible, pass the object in the `custom_objects` parameter of the load function.\n"
     ]
    },
    {
     "name": "stdout",
     "output_type": "stream",
     "text": [
      "164/164 - 7s - loss: 0.4292 - accuracy: 0.7878 - auroc: 0.8361 - auprc: 0.9313 - val_loss: 0.4505 - val_accuracy: 0.7880 - val_auroc: 0.8368 - val_auprc: 0.9242 - lr: 0.0010 - 7s/epoch - 43ms/step\n",
      "Epoch 7/100\n",
      "\n",
      "Epoch 7: val_accuracy did not improve from 0.78798\n",
      "164/164 - 4s - loss: 0.4253 - accuracy: 0.7871 - auroc: 0.8396 - auprc: 0.9329 - val_loss: 0.4435 - val_accuracy: 0.7863 - val_auroc: 0.8433 - val_auprc: 0.9279 - lr: 0.0010 - 4s/epoch - 25ms/step\n",
      "Epoch 8/100\n",
      "\n",
      "Epoch 8: val_accuracy did not improve from 0.78798\n",
      "164/164 - 4s - loss: 0.4196 - accuracy: 0.7902 - auroc: 0.8444 - auprc: 0.9350 - val_loss: 0.4356 - val_accuracy: 0.7863 - val_auroc: 0.8479 - val_auprc: 0.9300 - lr: 0.0010 - 4s/epoch - 22ms/step\n",
      "Epoch 9/100\n",
      "\n",
      "Epoch 9: val_accuracy improved from 0.78798 to 0.79227, saving model to ../chckpt\n"
     ]
    },
    {
     "name": "stderr",
     "output_type": "stream",
     "text": [
      "WARNING:absl:Found untraced functions such as lstm_cell_layer_call_fn, lstm_cell_layer_call_and_return_conditional_losses while saving (showing 2 of 2). These functions will not be directly callable after loading.\n"
     ]
    },
    {
     "name": "stdout",
     "output_type": "stream",
     "text": [
      "INFO:tensorflow:Assets written to: ../chckpt/assets\n"
     ]
    },
    {
     "name": "stderr",
     "output_type": "stream",
     "text": [
      "INFO:tensorflow:Assets written to: ../chckpt/assets\n",
      "WARNING:absl:<keras.layers.recurrent.LSTMCell object at 0x7fa1febf4a60> has the same name 'LSTMCell' as a built-in Keras object. Consider renaming <class 'keras.layers.recurrent.LSTMCell'> to avoid naming conflicts when loading with `tf.keras.models.load_model`. If renaming is not possible, pass the object in the `custom_objects` parameter of the load function.\n"
     ]
    },
    {
     "name": "stdout",
     "output_type": "stream",
     "text": [
      "164/164 - 6s - loss: 0.4155 - accuracy: 0.7926 - auroc: 0.8479 - auprc: 0.9368 - val_loss: 0.4330 - val_accuracy: 0.7923 - val_auroc: 0.8497 - val_auprc: 0.9313 - lr: 0.0010 - 6s/epoch - 37ms/step\n",
      "Epoch 10/100\n",
      "\n",
      "Epoch 10: val_accuracy did not improve from 0.79227\n",
      "164/164 - 4s - loss: 0.4105 - accuracy: 0.7975 - auroc: 0.8527 - auprc: 0.9385 - val_loss: 0.4385 - val_accuracy: 0.7811 - val_auroc: 0.8501 - val_auprc: 0.9328 - lr: 0.0010 - 4s/epoch - 24ms/step\n",
      "Epoch 11/100\n",
      "\n",
      "Epoch 11: val_accuracy did not improve from 0.79227\n",
      "164/164 - 4s - loss: 0.4068 - accuracy: 0.7964 - auroc: 0.8555 - auprc: 0.9397 - val_loss: 0.4374 - val_accuracy: 0.7768 - val_auroc: 0.8455 - val_auprc: 0.9303 - lr: 0.0010 - 4s/epoch - 22ms/step\n",
      "Epoch 12/100\n",
      "\n",
      "Epoch 12: ReduceLROnPlateau reducing learning rate to 0.00020000000949949026.\n",
      "\n",
      "Epoch 12: val_accuracy did not improve from 0.79227\n",
      "164/164 - 4s - loss: 0.4056 - accuracy: 0.7989 - auroc: 0.8555 - auprc: 0.9397 - val_loss: 0.4269 - val_accuracy: 0.7880 - val_auroc: 0.8543 - val_auprc: 0.9339 - lr: 0.0010 - 4s/epoch - 22ms/step\n",
      "Epoch 13/100\n",
      "\n",
      "Epoch 13: val_accuracy did not improve from 0.79227\n",
      "164/164 - 4s - loss: 0.3950 - accuracy: 0.8076 - auroc: 0.8652 - auprc: 0.9440 - val_loss: 0.4206 - val_accuracy: 0.7906 - val_auroc: 0.8590 - val_auprc: 0.9363 - lr: 2.0000e-04 - 4s/epoch - 22ms/step\n",
      "Epoch 14/100\n",
      "\n",
      "Epoch 14: val_accuracy improved from 0.79227 to 0.79571, saving model to ../chckpt\n"
     ]
    },
    {
     "name": "stderr",
     "output_type": "stream",
     "text": [
      "WARNING:absl:Found untraced functions such as lstm_cell_layer_call_fn, lstm_cell_layer_call_and_return_conditional_losses while saving (showing 2 of 2). These functions will not be directly callable after loading.\n"
     ]
    },
    {
     "name": "stdout",
     "output_type": "stream",
     "text": [
      "INFO:tensorflow:Assets written to: ../chckpt/assets\n"
     ]
    },
    {
     "name": "stderr",
     "output_type": "stream",
     "text": [
      "INFO:tensorflow:Assets written to: ../chckpt/assets\n",
      "WARNING:absl:<keras.layers.recurrent.LSTMCell object at 0x7fa1febf4a60> has the same name 'LSTMCell' as a built-in Keras object. Consider renaming <class 'keras.layers.recurrent.LSTMCell'> to avoid naming conflicts when loading with `tf.keras.models.load_model`. If renaming is not possible, pass the object in the `custom_objects` parameter of the load function.\n"
     ]
    },
    {
     "name": "stdout",
     "output_type": "stream",
     "text": [
      "164/164 - 7s - loss: 0.3915 - accuracy: 0.8100 - auroc: 0.8686 - auprc: 0.9455 - val_loss: 0.4233 - val_accuracy: 0.7957 - val_auroc: 0.8590 - val_auprc: 0.9364 - lr: 2.0000e-04 - 7s/epoch - 40ms/step\n",
      "Epoch 15/100\n",
      "\n",
      "Epoch 15: val_accuracy did not improve from 0.79571\n",
      "164/164 - 4s - loss: 0.3901 - accuracy: 0.8089 - auroc: 0.8698 - auprc: 0.9461 - val_loss: 0.4248 - val_accuracy: 0.7923 - val_auroc: 0.8580 - val_auprc: 0.9360 - lr: 2.0000e-04 - 4s/epoch - 25ms/step\n",
      "Epoch 16/100\n",
      "\n",
      "Epoch 16: val_accuracy improved from 0.79571 to 0.80086, saving model to ../chckpt\n"
     ]
    },
    {
     "name": "stderr",
     "output_type": "stream",
     "text": [
      "WARNING:absl:Found untraced functions such as lstm_cell_layer_call_fn, lstm_cell_layer_call_and_return_conditional_losses while saving (showing 2 of 2). These functions will not be directly callable after loading.\n"
     ]
    },
    {
     "name": "stdout",
     "output_type": "stream",
     "text": [
      "INFO:tensorflow:Assets written to: ../chckpt/assets\n"
     ]
    },
    {
     "name": "stderr",
     "output_type": "stream",
     "text": [
      "INFO:tensorflow:Assets written to: ../chckpt/assets\n",
      "WARNING:absl:<keras.layers.recurrent.LSTMCell object at 0x7fa1febf4a60> has the same name 'LSTMCell' as a built-in Keras object. Consider renaming <class 'keras.layers.recurrent.LSTMCell'> to avoid naming conflicts when loading with `tf.keras.models.load_model`. If renaming is not possible, pass the object in the `custom_objects` parameter of the load function.\n"
     ]
    },
    {
     "name": "stdout",
     "output_type": "stream",
     "text": [
      "164/164 - 7s - loss: 0.3890 - accuracy: 0.8102 - auroc: 0.8701 - auprc: 0.9461 - val_loss: 0.4229 - val_accuracy: 0.8009 - val_auroc: 0.8624 - val_auprc: 0.9380 - lr: 2.0000e-04 - 7s/epoch - 40ms/step\n",
      "Epoch 17/100\n",
      "\n",
      "Epoch 17: val_accuracy did not improve from 0.80086\n",
      "164/164 - 4s - loss: 0.3880 - accuracy: 0.8109 - auroc: 0.8711 - auprc: 0.9467 - val_loss: 0.4215 - val_accuracy: 0.7948 - val_auroc: 0.8600 - val_auprc: 0.9370 - lr: 2.0000e-04 - 4s/epoch - 27ms/step\n",
      "Epoch 18/100\n",
      "\n",
      "Epoch 18: val_accuracy did not improve from 0.80086\n",
      "164/164 - 4s - loss: 0.3864 - accuracy: 0.8126 - auroc: 0.8726 - auprc: 0.9473 - val_loss: 0.4224 - val_accuracy: 0.7906 - val_auroc: 0.8591 - val_auprc: 0.9366 - lr: 2.0000e-04 - 4s/epoch - 22ms/step\n",
      "Epoch 19/100\n",
      "\n",
      "Epoch 19: ReduceLROnPlateau reducing learning rate to 4.0000001899898055e-05.\n",
      "\n",
      "Epoch 19: val_accuracy did not improve from 0.80086\n",
      "164/164 - 4s - loss: 0.3858 - accuracy: 0.8121 - auroc: 0.8734 - auprc: 0.9476 - val_loss: 0.4142 - val_accuracy: 0.7923 - val_auroc: 0.8649 - val_auprc: 0.9391 - lr: 2.0000e-04 - 4s/epoch - 23ms/step\n",
      "Epoch 20/100\n",
      "\n",
      "Epoch 20: val_accuracy did not improve from 0.80086\n",
      "164/164 - 4s - loss: 0.3829 - accuracy: 0.8129 - auroc: 0.8759 - auprc: 0.9488 - val_loss: 0.4164 - val_accuracy: 0.7931 - val_auroc: 0.8637 - val_auprc: 0.9386 - lr: 4.0000e-05 - 4s/epoch - 23ms/step\n",
      "Epoch 21/100\n",
      "\n",
      "Epoch 21: val_accuracy did not improve from 0.80086\n",
      "164/164 - 4s - loss: 0.3821 - accuracy: 0.8134 - auroc: 0.8764 - auprc: 0.9489 - val_loss: 0.4159 - val_accuracy: 0.7923 - val_auroc: 0.8639 - val_auprc: 0.9387 - lr: 4.0000e-05 - 4s/epoch - 23ms/step\n",
      "Epoch 21: early stopping\n",
      "91/91 [==============================] - 1s 13ms/step - loss: 0.4184 - accuracy: 0.8025 - auroc: 0.8576 - auprc: 0.9357\n"
     ]
    },
    {
     "data": {
      "text/plain": [
       "[0.41839462518692017,\n",
       " 0.8024733662605286,\n",
       " 0.8575666546821594,\n",
       " 0.9357375502586365]"
      ]
     },
     "execution_count": 6,
     "metadata": {},
     "output_type": "execute_result"
    }
   ],
   "source": [
    "optimizer = tf.keras.optimizers.Adam(learning_rate=0.001)\n",
    "\n",
    "loss = tf.keras.losses.BinaryCrossentropy(from_logits=True)\n",
    "\n",
    "\n",
    "early_stopper = tf.keras.callbacks.EarlyStopping(monitor='val_accuracy',min_delta=0, patience = 5,verbose=2)\n",
    "lr_scheduler = tf.keras.callbacks.ReduceLROnPlateau(monitor='val_accuracy',factor=0.2,patience =3, verbose = 1)\n",
    "checkpointer = tf.keras.callbacks.ModelCheckpoint(filepath='../chckpt',monitor='val_accuracy',verbose=1,save_best_only=True)\n",
    "tensorboard = tf.keras.callbacks.TensorBoard(log_dir='../logs/'+dataset+'/task4',write_images=True)\n",
    "\n",
    "\n",
    "auroc = tf.keras.metrics.AUC(curve='ROC',from_logits = True,name='auroc')\n",
    "auprc = tf.keras.metrics.AUC(curve='PR',from_logits = True,name='auprc')\n",
    "metrics= ['accuracy',auroc,auprc]\n",
    "\n",
    "\n",
    "model2.compile(optimizer=optimizer, loss= loss, metrics = metrics)\n",
    "\n",
    "model2.fit(x=X,y=Y,batch_size=64,epochs=100,verbose=2,shuffle=True,callbacks=[early_stopper,lr_scheduler,checkpointer,tensorboard],validation_split = 0.1)\n",
    "\n",
    "model2.evaluate(x=X_test,y=Y_test)"
   ]
  }
 ],
 "metadata": {
  "interpreter": {
   "hash": "6437ff6c85c757ceba5db2a6998c4f1669d0f62cfc0e179dab4e1fccc2692370"
  },
  "kernelspec": {
   "display_name": "Python 3.8.8 ('tf_gpu')",
   "language": "python",
   "name": "python3"
  },
  "language_info": {
   "codemirror_mode": {
    "name": "ipython",
    "version": 3
   },
   "file_extension": ".py",
   "mimetype": "text/x-python",
   "name": "python",
   "nbconvert_exporter": "python",
   "pygments_lexer": "ipython3",
   "version": "3.8.8"
  },
  "orig_nbformat": 4
 },
 "nbformat": 4,
 "nbformat_minor": 2
}
